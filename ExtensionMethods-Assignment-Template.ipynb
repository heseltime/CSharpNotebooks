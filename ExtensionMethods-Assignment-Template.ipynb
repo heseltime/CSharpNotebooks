{
 "cells": [
  {
   "cell_type": "markdown",
   "metadata": {},
   "source": [
    "# Aufgabe 1\n",
    "Schreiben Sie für den Datentyp `int` eine Erweiterungsmethode `IsEven`, welche\n",
    "`true` liefert, falls eine Zahl gerade ist, und sonst `false` zurückgibt."
   ]
  },
  {
   "cell_type": "code",
   "execution_count": 1,
   "metadata": {
    "dotnet_interactive": {
     "language": "csharp"
    },
    "vscode": {
     "languageId": "polyglot-notebook"
    }
   },
   "outputs": [],
   "source": [
    "// TODO\n",
    "\n",
    "public static bool IsEven(this int i)\n",
    "{\n",
    "    return i % 2 == 0;\n",
    "}"
   ]
  },
  {
   "cell_type": "markdown",
   "metadata": {},
   "source": [
    "Führen Sie im nachstehenden Programmfragment die erforderlichen Ergänzungen\n",
    "durch, sodass für jede Zahl ausgegeben wird, ob sie grade oder ungerade ist."
   ]
  },
  {
   "cell_type": "code",
   "execution_count": 2,
   "metadata": {
    "dotnet_interactive": {
     "language": "csharp"
    },
    "vscode": {
     "languageId": "polyglot-notebook"
    }
   },
   "outputs": [
    {
     "name": "stdout",
     "output_type": "stream",
     "text": [
      "1 is odd\n",
      "2 is even\n",
      "3 is odd\n",
      "4 is even\n"
     ]
    }
   ],
   "source": [
    "foreach (var i in new [] {1,2,3,4}) \n",
    "{\n",
    "  Console.WriteLine($\"{i} is { (i.IsEven() ? \"even\" : \"odd\")}\"); // TODO\n",
    "}"
   ]
  },
  {
   "cell_type": "markdown",
   "metadata": {},
   "source": [
    "# Aufgabe 2\n",
    "Schreiben Sie für `int` eine weitere Erweiterungsmethode `Holds`, welche überprüft, ob für eine ganze Zahl ein vorgegebenes Prädikat erfüllt ist."
   ]
  },
  {
   "cell_type": "markdown",
   "metadata": {},
   "source": [
    "Definieren Sie dafür zunächst einen Delegate-Type `Predicate`, der Methoden\n",
    "beschreibt, die eine ganze Zahl auf einen booleschen Wert abbilden."
   ]
  },
  {
   "cell_type": "code",
   "execution_count": 3,
   "metadata": {
    "dotnet_interactive": {
     "language": "csharp"
    },
    "vscode": {
     "languageId": "polyglot-notebook"
    }
   },
   "outputs": [],
   "source": [
    "// TODO\n",
    "\n",
    "public delegate bool Predicate(int i);"
   ]
  },
  {
   "cell_type": "markdown",
   "metadata": {},
   "source": [
    "Implementieren Sie nun auf Basis von `Predicate` die Erweiterungsmethode `Holds`."
   ]
  },
  {
   "cell_type": "code",
   "execution_count": 4,
   "metadata": {
    "dotnet_interactive": {
     "language": "csharp"
    },
    "vscode": {
     "languageId": "polyglot-notebook"
    }
   },
   "outputs": [],
   "source": [
    "// TODO\n",
    "\n",
    "public static bool Holds(this int i, Predicate predicate)\n",
    "{\n",
    "    return predicate(i);\n",
    "}"
   ]
  },
  {
   "cell_type": "markdown",
   "metadata": {},
   "source": [
    "Geben Sie nachfolgend unter Zuhilfenahme von `Holds` alle positiven Zahlen des\n",
    "Arrays `numbers` auf der Konsole aus."
   ]
  },
  {
   "cell_type": "code",
   "execution_count": 5,
   "metadata": {
    "dotnet_interactive": {
     "language": "csharp"
    },
    "vscode": {
     "languageId": "polyglot-notebook"
    }
   },
   "outputs": [
    {
     "name": "stdout",
     "output_type": "stream",
     "text": [
      "3 is greater than 0\n",
      "8 is greater than 0\n",
      "41 is greater than 0\n"
     ]
    }
   ],
   "source": [
    "var numbers = new [] { -1, 3, -5, 8, -17, 41 };\n",
    "\n",
    "// TODO\n",
    "\n",
    "foreach (var n in numbers)\n",
    "{\n",
    "    if (n.Holds(n => n > 0))\n",
    "    {\n",
    "        Console.WriteLine($\"{n} is greater than 0\");\n",
    "    }\n",
    "}"
   ]
  },
  {
   "cell_type": "markdown",
   "metadata": {},
   "source": [
    "# Aufgabe 3\n",
    "Implementieren Sie eine Erweiterungsmethode `HoldsForAll`, welche für einen\n",
    "beliebigen Behälter von Werten mit dem Datentyp T überprüft, ob ein Prädikat für alle\n",
    "Elemente eines Behälters erfüllt ist.\n",
    "\n",
    "*Hinweis:* Sie müssen dafür auch den Delegate-Typ `Predicate` allgemeiner definieren."
   ]
  },
  {
   "cell_type": "code",
   "execution_count": 8,
   "metadata": {
    "dotnet_interactive": {
     "language": "csharp"
    },
    "vscode": {
     "languageId": "polyglot-notebook"
    }
   },
   "outputs": [],
   "source": [
    "// TODO\n",
    "\n",
    "public delegate bool Predicate<T>(T item);\n",
    "\n",
    "public static bool HoldsForAll<T>(this IEnumerable<T> items, Predicate<T> predicate)\n",
    "{\n",
    "    foreach (var item in items)\n",
    "    {\n",
    "        if (!predicate(item))\n",
    "        {\n",
    "            return false;\n",
    "        }\n",
    "    }\n",
    "    \n",
    "    return true;\n",
    "}"
   ]
  },
  {
   "cell_type": "markdown",
   "metadata": {},
   "source": [
    "Testen Sie `HoldsForAll`, indem Sie überprüfen, ob alle in `words` enthalten\n",
    "Zeichenketten nicht leer sind."
   ]
  },
  {
   "cell_type": "code",
   "execution_count": 10,
   "metadata": {
    "dotnet_interactive": {
     "language": "csharp"
    },
    "vscode": {
     "languageId": "polyglot-notebook"
    }
   },
   "outputs": [
    {
     "name": "stdout",
     "output_type": "stream",
     "text": [
      "noEmptyWords=True\r\n"
     ]
    }
   ],
   "source": [
    "var words = new [] { \"Hello\", \"world\"};\n",
    "bool noEmptyWords = words.HoldsForAll(w => !string.IsNullOrEmpty((w))); // TODO ... IsNullOrEmpty better than comparing to \"\"\n",
    "Console.WriteLine($\"noEmptyWords={noEmptyWords}\");"
   ]
  }
 ],
 "metadata": {
  "kernelspec": {
   "display_name": ".NET (C#)",
   "language": "C#",
   "name": ".net-csharp"
  },
  "language_info": {
   "name": "C#"
  }
 },
 "nbformat": 4,
 "nbformat_minor": 2
}
