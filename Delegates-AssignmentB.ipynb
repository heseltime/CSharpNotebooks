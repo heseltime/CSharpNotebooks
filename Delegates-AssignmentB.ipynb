{
 "metadata": {
  "kernelspec": {
   "display_name": ".NET (C#)",
   "language": "C#",
   "name": ".net-csharp"
  },
  "language_info": {
   "name": "C#"
  }
 },
 "cells": [
  {
   "cell_type": "markdown",
   "source": [
    "# Übungsaufgaben: Delegates & Events"
   ],
   "metadata": {}
  },
  {
   "cell_type": "markdown",
   "source": [
    "Führen Sie zunächst den folgenden Codeblock aus, um einige Testdaten für die kommenden Aufgaben zu erhalten."
   ],
   "metadata": {}
  },
  {
   "cell_type": "code",
   "execution_count": null,
   "source": [
    "public enum Gender\r\n",
    "{\r\n",
    "    Male,\r\n",
    "    Female,\r\n",
    "    Divers\r\n",
    "}\r\n",
    "\r\n",
    "public class Person\r\n",
    "{\r\n",
    "    public string FirstName { get; set; }\r\n",
    "    public DateTime DateOfBirth { get; set; }\r\n",
    "    public Gender Gender { get; set; }\r\n",
    "\r\n",
    "    public override string ToString() => this.FirstName;\r\n",
    "}\r\n",
    "\r\n",
    "var people = new []\r\n",
    "{\r\n",
    "    new Person { FirstName = \"Anna\", Gender = Gender.Female, DateOfBirth = new DateTime(2014, 4, 2) },\r\n",
    "    new Person { FirstName = \"Max\", Gender = Gender.Male, DateOfBirth = new DateTime(1998, 11, 18) },\r\n",
    "    new Person { FirstName = \"Barbara\", Gender = Gender.Female, DateOfBirth = new DateTime(2001, 1, 23) },\r\n",
    "    new Person { FirstName = \"Peter\", Gender = Gender.Male, DateOfBirth = new DateTime(2016, 7, 22) }\r\n",
    "};"
   ],
   "outputs": [],
   "metadata": {
    "dotnet_interactive": {
     "language": "csharp"
    }
   }
  },
  {
   "cell_type": "markdown",
   "source": [
    "## Aufgabe 1:\r\n",
    "Erstellen Sie einen neuen Delegate-Typ namens ```PersonCheckDelegate``` für Methoden, die eine ```Person``` übergeben bekommen und einen ```bool``` liefern."
   ],
   "metadata": {}
  },
  {
   "cell_type": "code",
   "execution_count": null,
   "source": [],
   "outputs": [],
   "metadata": {
    "dotnet_interactive": {
     "language": "csharp"
    }
   }
  },
  {
   "cell_type": "markdown",
   "source": [
    "## Aufgabe 2:\r\n",
    "Schreiben Sie eine Methode ```IsOldEnoughToVote```, die für eine Person entscheidet, ob sie bereits 18 Jahre alt ist. Die Methode soll dem in Aufgabe 1 geschriebenen Delegate-Typ entsprechen.\r\n",
    "\r\n",
    "Hinweis: Die Klasse ```DateTime``` beinhaltet die Methode ```AddYears(x)```, mit ```DateTime.Now``` erhalten Sie das aktuelle Datum."
   ],
   "metadata": {}
  },
  {
   "cell_type": "code",
   "execution_count": null,
   "source": [],
   "outputs": [],
   "metadata": {
    "dotnet_interactive": {
     "language": "csharp"
    }
   }
  },
  {
   "cell_type": "markdown",
   "source": [
    "## Aufgabe 3:\r\n",
    "Wenn Sie bisher alles richtig gemacht haben, sollte folgender Code ausführbar sein. Korrigieren Sie andernfalls Ihre Implementierung."
   ],
   "metadata": {}
  },
  {
   "cell_type": "code",
   "execution_count": null,
   "source": [
    "PersonCheckDelegate checkFunc = IsOldEnoughToVote;"
   ],
   "outputs": [],
   "metadata": {
    "dotnet_interactive": {
     "language": "csharp"
    }
   }
  },
  {
   "cell_type": "markdown",
   "source": [
    "## Aufgabe 4:\r\n",
    "Iterieren Sie in einer ```foreach```-Schleife über alle Personen in ```people``` und rufen Sie die ```checkFunc``` für jede Person auf. Wenn der Check erfolgreich ist, geben Sie die Person auf der Konsole aus.\r\n",
    "\r\n",
    "Es sollten Max und Barbara ausgegeben werden."
   ],
   "metadata": {}
  },
  {
   "cell_type": "code",
   "execution_count": null,
   "source": [],
   "outputs": [],
   "metadata": {
    "dotnet_interactive": {
     "language": "csharp"
    }
   }
  },
  {
   "cell_type": "markdown",
   "source": [
    "## Aufgabe 5:\r\n",
    "Schreiben Sie eine **Lambda-Expression**, die dem ```PersonCheckDelegate```-Typ entspricht und abprüft, ob es sich um eine Frau handelt. Speichern Sie diese Lambda-Expression als Variable namens ```femaleCheck```.\r\n",
    "\r\n",
    "Weisen Sie den ```femaleCheck``` der bestehenden ```checkFunc``` zu.\r\n",
    "\r\n",
    "Führen Sie anschließend noch einmal den Code von Aufgabe 4 aus - nun sollten Anna und Barbara ausgegeben werden."
   ],
   "metadata": {}
  },
  {
   "cell_type": "code",
   "execution_count": null,
   "source": [],
   "outputs": [],
   "metadata": {
    "dotnet_interactive": {
     "language": "csharp"
    }
   }
  },
  {
   "cell_type": "markdown",
   "source": [
    "## Aufgabe 6:\r\n",
    "Erstellen Sie eine Liste namens ```multipleChecks```, die beliebig viele ```PersonCheckDelegate```-Objekte beinhalten kann.\r\n",
    "\r\n",
    "Fügen Sie die bisherigen Methoden ```IsOldEnoughToVote``` und ```femaleCheck``` zur Liste hinzu."
   ],
   "metadata": {}
  },
  {
   "cell_type": "code",
   "execution_count": null,
   "source": [],
   "outputs": [],
   "metadata": {
    "dotnet_interactive": {
     "language": "csharp"
    }
   }
  },
  {
   "cell_type": "markdown",
   "source": [
    "## Aufgabe 7:\r\n",
    "Iterieren Sie wieder über alle Personen aus ```people``` (siehe Aufgabe 4), prüfen Sie nun aber sämtliche Checks aus ```multipleChecks``` ab. Erfüllt eine Person alle Bedingungen, so geben Sie diese auf der Konsole aus (es sollte nur Barbara übrig bleiben).\r\n",
    "\r\n",
    "Hinweis: Collections besitzen die Erweiterungsmethode ```.All```, die eine kompaktere Schreibweise ermöglichen würde."
   ],
   "metadata": {}
  },
  {
   "cell_type": "code",
   "execution_count": null,
   "source": [],
   "outputs": [],
   "metadata": {
    "dotnet_interactive": {
     "language": "csharp"
    }
   }
  }
 ],
 "nbformat": 4,
 "nbformat_minor": 2
}